{
 "cells": [
  {
   "cell_type": "code",
   "execution_count": 138,
   "metadata": {},
   "outputs": [
    {
     "name": "stdout",
     "output_type": "stream",
     "text": [
      "C:\\Users\\STUDENT\\Desktop\\비대면강의\\데이터베이스\\설계\\appdata\n"
     ]
    }
   ],
   "source": [
    "import os\n",
    "import re\n",
    "import pandas as pd\n",
    "from numpy import nan, NaN, NAN\n",
    "from datetime import datetime as dt\n",
    "from datetime import timedelta as td\n",
    "os.chdir(\"C:\\\\Users\\\\STUDENT\\\\Desktop\\비대면강의\\\\데이터베이스\\\\설계\\\\appdata\")\n",
    "print(os.getcwd())"
   ]
  },
  {
   "cell_type": "code",
   "execution_count": 101,
   "metadata": {},
   "outputs": [
    {
     "name": "stderr",
     "output_type": "stream",
     "text": [
      "C:\\ProgramData\\Anaconda3\\lib\\site-packages\\IPython\\core\\interactiveshell.py:3057: DtypeWarning: Columns (2,3,11,12,13) have mixed types. Specify dtype option on import or set low_memory=False.\n",
      "  interactivity=interactivity, compiler=compiler, result=result)\n"
     ]
    },
    {
     "name": "stdout",
     "output_type": "stream",
     "text": [
      "                                            App Name          Category  \\\n",
      "0                           DoorDash - Food Delivery    FOOD_AND_DRINK   \n",
      "1  TripAdvisor Hotels Flights Restaurants Attract...  TRAVEL_AND_LOCAL   \n",
      "2                                             Peapod          SHOPPING   \n",
      "3                    foodpanda - Local Food Delivery    FOOD_AND_DRINK   \n",
      "4                          My CookBook Pro (Ad Free)    FOOD_AND_DRINK   \n",
      "\n",
      "        Rating    Reviews      Installs                Size  Price  \\\n",
      "0  4.548561573  305034.00    5,000,000+  Varies with device      0   \n",
      "1  4.400671482 1207922.00  100,000,000+  Varies with device      0   \n",
      "2  3.656329393    1967.00      100,000+                1.4M      0   \n",
      "3  4.107232571  389154.00   10,000,000+                 16M      0   \n",
      "4  4.647752285    2291.00       10,000+  Varies with device  $5.99   \n",
      "\n",
      "  Content Rating        Last Updated     Minimum Version      Latest Version  \\\n",
      "0       Everyone      March 29, 2019  Varies with device  Varies with device   \n",
      "1       Everyone      March 29, 2019  Varies with device  Varies with device   \n",
      "2       Everyone  September 20, 2018          5.0 and up               2.2.0   \n",
      "3       Everyone      March 22, 2019          4.2 and up              4.18.2   \n",
      "4       Everyone       April 1, 2019  Varies with device  Varies with device   \n",
      "\n",
      "  Unnamed: 11 Unnamed: 12 Unnamed: 13  Unnamed: 14  \n",
      "0         NaN         NaN         NaN          nan  \n",
      "1         NaN         NaN         NaN          nan  \n",
      "2         NaN         NaN         NaN          nan  \n",
      "3         NaN         NaN         NaN          nan  \n",
      "4         NaN         NaN         NaN          nan  \n",
      "App Name            object\n",
      "Category            object\n",
      "Rating              object\n",
      "Reviews             object\n",
      "Installs            object\n",
      "Size                object\n",
      "Price               object\n",
      "Content Rating      object\n",
      "Last Updated        object\n",
      "Minimum Version     object\n",
      "Latest Version      object\n",
      "Unnamed: 11         object\n",
      "Unnamed: 12         object\n",
      "Unnamed: 13         object\n",
      "Unnamed: 14        float64\n",
      "dtype: object\n",
      "<class 'pandas.core.frame.DataFrame'>\n",
      "(267052, 15)\n",
      "Index(['App Name', 'Category', 'Rating', 'Reviews', 'Installs', 'Size',\n",
      "       'Price', 'Content Rating', 'Last Updated', 'Minimum Version',\n",
      "       'Latest Version', 'Unnamed: 11', 'Unnamed: 12', 'Unnamed: 13',\n",
      "       'Unnamed: 14'],\n",
      "      dtype='object')\n"
     ]
    }
   ],
   "source": [
    "app = pd.read_csv(\"./Google-Playstore-Full.csv\")\n",
    "print(app.head())\n",
    "print(app.dtypes)\n",
    "print(type(app))\n",
    "print(app.shape)\n",
    "print(app.columns)"
   ]
  },
  {
   "cell_type": "code",
   "execution_count": 102,
   "metadata": {},
   "outputs": [
    {
     "name": "stdout",
     "output_type": "stream",
     "text": [
      "  Unnamed: 11 Unnamed: 12 Unnamed: 13  Unnamed: 14\n",
      "0         NaN         NaN         NaN          nan\n",
      "1         NaN         NaN         NaN          nan\n",
      "2         NaN         NaN         NaN          nan\n",
      "3         NaN         NaN         NaN          nan\n",
      "4         NaN         NaN         NaN          nan\n",
      "(267052, 4)\n",
      "Unnamed: 11    267034\n",
      "Unnamed: 12    267049\n",
      "Unnamed: 13    267050\n",
      "Unnamed: 14    267051\n",
      "dtype: int64\n",
      "Unnamed: 11    99.99\n",
      "Unnamed: 12   100.00\n",
      "Unnamed: 13   100.00\n",
      "Unnamed: 14   100.00\n",
      "dtype: float64\n"
     ]
    }
   ],
   "source": [
    "# unamaed 누락값 확인(부분 누락인지 or 전체 누락인지 확인)\n",
    "app_nan = app.iloc[:, 11:15]\n",
    "print(app_nan.head())\n",
    "app_nan_rows = app_nan.shape[0] # 전체행의 수 \n",
    "app_nan_count = app_nan_rows - app_nan.count() # 누락값 빈도 확인\n",
    "print(app_nan.shape)\n",
    "print(app_nan_count)\n",
    "\n",
    "# 누락 비율\n",
    "app_nan_rate = (app_nan_count/app_nan_rows)*100\n",
    "print(app_nan_rate)\n",
    "# 누락율이 대부분 99.999넘으니 unmaed 데이터를 뺀 데이터를 가지고 가공작업 시작 -> slicing "
   ]
  },
  {
   "cell_type": "code",
   "execution_count": 103,
   "metadata": {},
   "outputs": [
    {
     "name": "stdout",
     "output_type": "stream",
     "text": [
      "                                            App Name          Category  \\\n",
      "0                           DoorDash - Food Delivery    FOOD_AND_DRINK   \n",
      "1  TripAdvisor Hotels Flights Restaurants Attract...  TRAVEL_AND_LOCAL   \n",
      "2                                             Peapod          SHOPPING   \n",
      "3                    foodpanda - Local Food Delivery    FOOD_AND_DRINK   \n",
      "4                          My CookBook Pro (Ad Free)    FOOD_AND_DRINK   \n",
      "\n",
      "        Rating    Reviews      Installs                Size  Price  \\\n",
      "0  4.548561573  305034.00    5,000,000+  Varies with device      0   \n",
      "1  4.400671482 1207922.00  100,000,000+  Varies with device      0   \n",
      "2  3.656329393    1967.00      100,000+                1.4M      0   \n",
      "3  4.107232571  389154.00   10,000,000+                 16M      0   \n",
      "4  4.647752285    2291.00       10,000+  Varies with device  $5.99   \n",
      "\n",
      "  Content Rating        Last Updated     Minimum Version      Latest Version  \n",
      "0       Everyone      March 29, 2019  Varies with device  Varies with device  \n",
      "1       Everyone      March 29, 2019  Varies with device  Varies with device  \n",
      "2       Everyone  September 20, 2018          5.0 and up               2.2.0  \n",
      "3       Everyone      March 22, 2019          4.2 and up              4.18.2  \n",
      "4       Everyone       April 1, 2019  Varies with device  Varies with device  \n"
     ]
    }
   ],
   "source": [
    "app_slicing = app.iloc[:, :11]\n",
    "print(app_slicing.head())"
   ]
  },
  {
   "cell_type": "code",
   "execution_count": 104,
   "metadata": {},
   "outputs": [
    {
     "name": "stdout",
     "output_type": "stream",
     "text": [
      "App Name           1\n",
      "Category           1\n",
      "Rating             0\n",
      "Reviews            1\n",
      "Installs           0\n",
      "Size               0\n",
      "Price              0\n",
      "Content Rating     0\n",
      "Last Updated       0\n",
      "Minimum Version    1\n",
      "Latest Version     3\n",
      "dtype: int64\n",
      "(267052, 11)\n",
      "(267046, 11)\n"
     ]
    }
   ],
   "source": [
    "# slicing 데이텨 누락값 확인 \n",
    "app_slicing_rows = app_slicing.shape[0]\n",
    "app_slicing_nan = app_slicing_rows-app_slicing.count()\n",
    "print(app_slicing_nan) # 대치 어떻게 할 것인지 아님 그냥 삭제할 것인지 고민 좀\n",
    "print(app_slicing.shape) # 삭제 해도 되겠지 뭐\n",
    "app_slicing = app_slicing.dropna()\n",
    "print(app_slicing.shape)"
   ]
  },
  {
   "cell_type": "code",
   "execution_count": 158,
   "metadata": {},
   "outputs": [
    {
     "name": "stdout",
     "output_type": "stream",
     "text": [
      "0    305034.00\n",
      "1   1207922.00\n",
      "2      1967.00\n",
      "3    389154.00\n",
      "4      2291.00\n",
      "Name: Reviews, dtype: float32\n",
      "0\n",
      "0     305034\n",
      "1    1207922\n",
      "2       1967\n",
      "3     389154\n",
      "4       2291\n",
      "Name: Reviews, dtype: int32\n"
     ]
    }
   ],
   "source": [
    "# data type transform to float, integer\n",
    "app_slicing['Reviews'] = pd.to_numeric(app_slicing['Reviews'],\n",
    "                                      errors='coerce', downcast='float')\n",
    "print(app_slicing['Reviews'].head())\n",
    "\n",
    "# 결측치 확인\n",
    "app_r = app_slicing['Reviews'].shape[0]\n",
    "app_r_n = app_r-app_slicing['Reviews'].count()\n",
    "\n",
    "app_slicing['Reviews'] = app_slicing['Reviews'].fillna(0)\n",
    "app_slicing['Reviews'] = app_slicing['Reviews'].astype('int32')\n",
    "print(app_r_n) # reviews 완성\n",
    "print(app_slicing['Reviews'].head())"
   ]
  },
  {
   "cell_type": "code",
   "execution_count": 106,
   "metadata": {},
   "outputs": [
    {
     "name": "stdout",
     "output_type": "stream",
     "text": [
      "0      5000000\n",
      "1    100000000\n",
      "2       100000\n",
      "3     10000000\n",
      "4        10000\n",
      "Name: Installs, dtype: object\n",
      "0     5000000.00\n",
      "1   100000000.00\n",
      "2      100000.00\n",
      "3    10000000.00\n",
      "4       10000.00\n",
      "Name: Installs, dtype: float64\n",
      "0      5000000\n",
      "1    100000000\n",
      "2       100000\n",
      "3     10000000\n",
      "4        10000\n",
      "Name: Installs, dtype: int32\n",
      "267046\n"
     ]
    }
   ],
   "source": [
    "# installs 전처리\n",
    "\n",
    "app_slicing['Installs']=app_slicing['Installs'].str.replace(pat=r'[^0-9]', repl=r'', regex=True)\n",
    "print(app_slicing['Installs'].head())\n",
    "\n",
    "app_slicing['Installs'] = pd.to_numeric(app_slicing['Installs'])\n",
    "print(app_slicing['Installs'].head())\n",
    "app_slicing['Installs'] = app_slicing['Installs'].fillna(0)\n",
    "app_slicing['Installs'] = app_slicing['Installs'].astype('int')\n",
    "print(app_slicing['Installs'].head())\n",
    "print(app_slicing['Installs'].count())"
   ]
  },
  {
   "cell_type": "code",
   "execution_count": 107,
   "metadata": {},
   "outputs": [
    {
     "name": "stdout",
     "output_type": "stream",
     "text": [
      "object\n",
      "0    4.548561573\n",
      "1    4.400671482\n",
      "2    3.656329393\n",
      "3    4.107232571\n",
      "4    4.647752285\n",
      "Name: Rating, dtype: object\n",
      "0   4.55\n",
      "1   4.40\n",
      "2   3.66\n",
      "3   4.11\n",
      "4   4.65\n",
      "Name: Rating, dtype: float32\n",
      "0   4.55\n",
      "1   4.40\n",
      "2   3.66\n",
      "3   4.11\n",
      "4   4.65\n",
      "Name: Rating, dtype: float32\n",
      "15\n"
     ]
    }
   ],
   "source": [
    "# ratings 전처리\n",
    "# ratings \n",
    "print(app_slicing['Rating'].dtypes)\n",
    "print(app_slicing['Rating'].head())\n",
    "\n",
    "app_slicing['Rating'] = pd.to_numeric(app_slicing['Rating'], errors='coerce', downcast='float')\n",
    "print(app_slicing['Rating'].head())\n",
    "\n",
    "# 결측치 확인 \n",
    "app_r_r = app_slicing['Rating'].shape[0]\n",
    "app_r_r_n = app_r_r-app_slicing['Rating'].count()\n",
    "app_slicing['Rating'] = app_slicing['Rating'].fillna(0) # game stratege를 변환\n",
    "print(app_slicing['Rating'].head()) \n",
    "print(app_r_r_n) # rating 완료 "
   ]
  },
  {
   "cell_type": "code",
   "execution_count": 110,
   "metadata": {},
   "outputs": [
    {
     "name": "stdout",
     "output_type": "stream",
     "text": [
      "                                            App Name          Category  \\\n",
      "0                           DoorDash - Food Delivery    FOOD_AND_DRINK   \n",
      "1  TripAdvisor Hotels Flights Restaurants Attract...  TRAVEL_AND_LOCAL   \n",
      "2                                             Peapod          SHOPPING   \n",
      "3                    foodpanda - Local Food Delivery    FOOD_AND_DRINK   \n",
      "4                          My CookBook Pro (Ad Free)    FOOD_AND_DRINK   \n",
      "\n",
      "   Rating    Reviews   Installs                Size  Price Content Rating  \\\n",
      "0    4.55  305034.00    5000000  Varies with device      0       Everyone   \n",
      "1    4.40 1207922.00  100000000  Varies with device      0       Everyone   \n",
      "2    3.66    1967.00     100000                1.4M      0       Everyone   \n",
      "3    4.11  389154.00   10000000                 16M      0       Everyone   \n",
      "4    4.65    2291.00      10000  Varies with device  $5.99       Everyone   \n",
      "\n",
      "         Last Updated     Minimum Version      Latest Version  \n",
      "0      March 29, 2019  Varies with device  Varies with device  \n",
      "1      March 29, 2019  Varies with device  Varies with device  \n",
      "2  September 20, 2018          5.0 and up               2.2.0  \n",
      "3      March 22, 2019          4.2 and up              4.18.2  \n",
      "4       April 1, 2019  Varies with device  Varies with device  \n",
      "App Name            object\n",
      "Category            object\n",
      "Rating             float32\n",
      "Reviews            float32\n",
      "Installs             int32\n",
      "Size                object\n",
      "Price               object\n",
      "Content Rating      object\n",
      "Last Updated        object\n",
      "Minimum Version     object\n",
      "Latest Version      object\n",
      "dtype: object\n",
      "<class 'pandas.core.frame.DataFrame'>\n"
     ]
    }
   ],
   "source": [
    "# 중간점검 \n",
    "print(app_slicing.head())\n",
    "print(app_slicing.dtypes)\n",
    "print(type(app_slicing))"
   ]
  },
  {
   "cell_type": "code",
   "execution_count": 124,
   "metadata": {},
   "outputs": [
    {
     "name": "stdout",
     "output_type": "stream",
     "text": [
      "0   0.00\n",
      "1   0.00\n",
      "2   0.00\n",
      "3   0.00\n",
      "4   5.99\n",
      "Name: Price, dtype: float64\n",
      "0        0.00\n",
      "1        0.00\n",
      "2        0.00\n",
      "3        0.00\n",
      "4        5.99\n",
      "5        0.00\n",
      "6        0.00\n",
      "7        0.00\n",
      "8        0.00\n",
      "9        0.00\n",
      "10       0.00\n",
      "11       0.00\n",
      "12       0.00\n",
      "13       0.00\n",
      "14       0.00\n",
      "15       0.00\n",
      "16       0.00\n",
      "17       0.00\n",
      "18       0.00\n",
      "19       0.00\n",
      "20       0.00\n",
      "21       0.00\n",
      "22       0.00\n",
      "23       0.00\n",
      "24       0.00\n",
      "25       0.00\n",
      "26       0.00\n",
      "27       0.00\n",
      "28       0.00\n",
      "29       0.00\n",
      "         ... \n",
      "267022   0.00\n",
      "267023   0.00\n",
      "267024   0.00\n",
      "267025   0.00\n",
      "267026   0.00\n",
      "267027   0.00\n",
      "267028   0.00\n",
      "267029   0.00\n",
      "267030   0.00\n",
      "267031   1.99\n",
      "267032   0.00\n",
      "267033   0.00\n",
      "267034   0.00\n",
      "267035   0.00\n",
      "267036   0.00\n",
      "267037   0.00\n",
      "267038   0.00\n",
      "267039   0.00\n",
      "267040   0.00\n",
      "267041   0.00\n",
      "267042   0.00\n",
      "267043   3.99\n",
      "267044   0.00\n",
      "267045   0.00\n",
      "267046   0.00\n",
      "267047   0.00\n",
      "267048   0.00\n",
      "267049   0.00\n",
      "267050   0.00\n",
      "267051   0.00\n",
      "Name: Price, Length: 267046, dtype: float32\n"
     ]
    }
   ],
   "source": [
    "# Price 전처리\n",
    "#print(app_slicing['Price'])\n",
    "\n",
    "# prices = app_slicing['Price']\n",
    "# prices = prices.replace('\\$','',regex=True) \n",
    "\n",
    "app_slicing['Price'] = app_slicing['Price'].replace('\\$','',regex=True)\n",
    "print(app_slicing['Price'].head())\n",
    "\n",
    "app_slicing['Price'] = pd.to_numeric(app_slicing['Price'],errors='coerce', downcast='float')\n",
    "print(app_slicing['Price'])"
   ]
  },
  {
   "cell_type": "code",
   "execution_count": 150,
   "metadata": {},
   "outputs": [
    {
     "name": "stdout",
     "output_type": "stream",
     "text": [
      "0   2019-03-29\n",
      "1   2019-03-29\n",
      "2   2018-09-20\n",
      "3   2019-03-22\n",
      "4   2019-04-01\n",
      "Name: Last Updated, dtype: datetime64[ns]\n"
     ]
    }
   ],
   "source": [
    "# Last Updated 전처리 \n",
    "# 일 월 연 -> 연 월 일로 \n",
    "app_slicing['Last Updated'] = pd.to_datetime(app_slicing['Last Updated'], \n",
    "                                            errors = 'coerce')\n",
    "print(app_slicing['Last Updated'].head())\n",
    "\n",
    "app_slicing['Last Updated'] = app_slicing['Last Updated'].dt.date \n",
    "\n",
    "# 누락값 확인\n",
    "app_date = app_slicing['Last Updated'].shape[0]\n",
    "date_nan = app_date -  app_slicing['Last Updated'].count()\n",
    "\n",
    "app_slicing['Last Updated'] = app_slicing['Last Updated'].fillna('Unkown')"
   ]
  },
  {
   "cell_type": "code",
   "execution_count": 160,
   "metadata": {},
   "outputs": [
    {
     "name": "stdout",
     "output_type": "stream",
     "text": [
      "                                            App Name          Category  \\\n",
      "0                           DoorDash - Food Delivery    FOOD_AND_DRINK   \n",
      "1  TripAdvisor Hotels Flights Restaurants Attract...  TRAVEL_AND_LOCAL   \n",
      "2                                             Peapod          SHOPPING   \n",
      "3                    foodpanda - Local Food Delivery    FOOD_AND_DRINK   \n",
      "4                          My CookBook Pro (Ad Free)    FOOD_AND_DRINK   \n",
      "\n",
      "   Rating  Reviews   Installs                Size  Price Content Rating  \\\n",
      "0    4.55   305034    5000000  Varies with device   0.00       Everyone   \n",
      "1    4.40  1207922  100000000  Varies with device   0.00       Everyone   \n",
      "2    3.66     1967     100000                1.4M   0.00       Everyone   \n",
      "3    4.11   389154   10000000                 16M   0.00       Everyone   \n",
      "4    4.65     2291      10000  Varies with device   5.99       Everyone   \n",
      "\n",
      "  Last Updated     Minimum Version      Latest Version  \n",
      "0   2019-03-29  Varies with device  Varies with device  \n",
      "1   2019-03-29  Varies with device  Varies with device  \n",
      "2   2018-09-20          5.0 and up               2.2.0  \n",
      "3   2019-03-22          4.2 and up              4.18.2  \n",
      "4   2019-04-01  Varies with device  Varies with device  \n",
      "App Name            object\n",
      "Category            object\n",
      "Rating             float32\n",
      "Reviews              int32\n",
      "Installs             int32\n",
      "Size                object\n",
      "Price              float32\n",
      "Content Rating      object\n",
      "Last Updated        object\n",
      "Minimum Version     object\n",
      "Latest Version      object\n",
      "dtype: object\n",
      "(267046, 11)\n"
     ]
    }
   ],
   "source": [
    "# 최종점검\n",
    "print(app_slicing.head())\n",
    "print(app_slicing.dtypes)\n",
    "print(app_slicing.shape)"
   ]
  },
  {
   "cell_type": "code",
   "execution_count": 161,
   "metadata": {},
   "outputs": [
    {
     "name": "stdout",
     "output_type": "stream",
     "text": [
      "   Unnamed: 0                                           App Name  \\\n",
      "0           0                           DoorDash - Food Delivery   \n",
      "1           1  TripAdvisor Hotels Flights Restaurants Attract...   \n",
      "2           2                                             Peapod   \n",
      "3           3                    foodpanda - Local Food Delivery   \n",
      "4           4                          My CookBook Pro (Ad Free)   \n",
      "\n",
      "           Category  Rating  Reviews   Installs                Size  Price  \\\n",
      "0    FOOD_AND_DRINK    4.55   305034    5000000  Varies with device   0.00   \n",
      "1  TRAVEL_AND_LOCAL    4.40  1207922  100000000  Varies with device   0.00   \n",
      "2          SHOPPING    3.66     1967     100000                1.4M   0.00   \n",
      "3    FOOD_AND_DRINK    4.11   389154   10000000                 16M   0.00   \n",
      "4    FOOD_AND_DRINK    4.65     2291      10000  Varies with device   5.99   \n",
      "\n",
      "  Content Rating Last Updated     Minimum Version      Latest Version  \n",
      "0       Everyone   2019-03-29  Varies with device  Varies with device  \n",
      "1       Everyone   2019-03-29  Varies with device  Varies with device  \n",
      "2       Everyone   2018-09-20          5.0 and up               2.2.0  \n",
      "3       Everyone   2019-03-22          4.2 and up              4.18.2  \n",
      "4       Everyone   2019-04-01  Varies with device  Varies with device  \n",
      "Unnamed: 0           int64\n",
      "App Name            object\n",
      "Category            object\n",
      "Rating             float64\n",
      "Reviews              int64\n",
      "Installs             int64\n",
      "Size                object\n",
      "Price              float64\n",
      "Content Rating      object\n",
      "Last Updated        object\n",
      "Minimum Version     object\n",
      "Latest Version      object\n",
      "dtype: object\n",
      "<class 'pandas.core.frame.DataFrame'>\n"
     ]
    }
   ],
   "source": [
    "# 데이터 저장\n",
    "app_slicing.to_csv('C:\\\\Users\\\\STUDENT\\\\Desktop\\비대면강의\\\\데이터베이스\\\\설계\\\\app_data_procssing.csv')\n",
    "\n",
    "processing = pd.read_csv('C:\\\\Users\\\\STUDENT\\\\Desktop\\비대면강의\\\\데이터베이스\\\\설계\\\\app_data_procssing.csv')\n",
    "print(processing.head())\n",
    "print(processing.dtypes)\n",
    "print(type(processing))"
   ]
  },
  {
   "cell_type": "code",
   "execution_count": 157,
   "metadata": {},
   "outputs": [
    {
     "name": "stdout",
     "output_type": "stream",
     "text": [
      "0     305034\n",
      "1    1207922\n",
      "2       1967\n",
      "3     389154\n",
      "4       2291\n",
      "Name: Reviews, dtype: int32\n"
     ]
    }
   ],
   "source": [
    "re_v = app_slicing['Reviews']\n",
    "re_v = re_v.astype('int32')\n",
    "print(re_v.head())"
   ]
  }
 ],
 "metadata": {
  "kernelspec": {
   "display_name": "Python 3",
   "language": "python",
   "name": "python3"
  },
  "language_info": {
   "codemirror_mode": {
    "name": "ipython",
    "version": 3
   },
   "file_extension": ".py",
   "mimetype": "text/x-python",
   "name": "python",
   "nbconvert_exporter": "python",
   "pygments_lexer": "ipython3",
   "version": "3.7.3"
  }
 },
 "nbformat": 4,
 "nbformat_minor": 2
}
