{
 "cells": [
  {
   "cell_type": "code",
   "execution_count": 1,
   "metadata": {},
   "outputs": [
    {
     "name": "stdout",
     "output_type": "stream",
     "text": [
      "C:\\Users\\STUDENT\\Desktop\\비대면강의\\데이터베이스\\설계\\appdata\n"
     ]
    }
   ],
   "source": [
    "import os\n",
    "import re\n",
    "import pandas as pd\n",
    "from numpy import nan, NaN, NAN\n",
    "from datetime import datetime as dt\n",
    "from datetime import timedelta as td\n",
    "os.chdir(\"C:\\\\Users\\\\STUDENT\\\\Desktop\\비대면강의\\\\데이터베이스\\\\설계\\\\appdata\")\n",
    "print(os.getcwd())"
   ]
  },
  {
   "cell_type": "code",
   "execution_count": 2,
   "metadata": {},
   "outputs": [
    {
     "name": "stderr",
     "output_type": "stream",
     "text": [
      "C:\\ProgramData\\Anaconda3\\lib\\site-packages\\IPython\\core\\interactiveshell.py:3057: DtypeWarning: Columns (2,3,11,12,13) have mixed types. Specify dtype option on import or set low_memory=False.\n",
      "  interactivity=interactivity, compiler=compiler, result=result)\n"
     ]
    },
    {
     "name": "stdout",
     "output_type": "stream",
     "text": [
      "                                            App Name          Category  \\\n",
      "0                           DoorDash - Food Delivery    FOOD_AND_DRINK   \n",
      "1  TripAdvisor Hotels Flights Restaurants Attract...  TRAVEL_AND_LOCAL   \n",
      "2                                             Peapod          SHOPPING   \n",
      "3                    foodpanda - Local Food Delivery    FOOD_AND_DRINK   \n",
      "4                          My CookBook Pro (Ad Free)    FOOD_AND_DRINK   \n",
      "\n",
      "        Rating      Reviews      Installs                Size  Price  \\\n",
      "0  4.548561573       305034    5,000,000+  Varies with device      0   \n",
      "1  4.400671482  1.20792e+06  100,000,000+  Varies with device      0   \n",
      "2  3.656329393         1967      100,000+                1.4M      0   \n",
      "3  4.107232571       389154   10,000,000+                 16M      0   \n",
      "4  4.647752285         2291       10,000+  Varies with device  $5.99   \n",
      "\n",
      "  Content Rating        Last Updated     Minimum Version      Latest Version  \\\n",
      "0       Everyone      March 29, 2019  Varies with device  Varies with device   \n",
      "1       Everyone      March 29, 2019  Varies with device  Varies with device   \n",
      "2       Everyone  September 20, 2018          5.0 and up               2.2.0   \n",
      "3       Everyone      March 22, 2019          4.2 and up              4.18.2   \n",
      "4       Everyone       April 1, 2019  Varies with device  Varies with device   \n",
      "\n",
      "  Unnamed: 11 Unnamed: 12 Unnamed: 13  Unnamed: 14  \n",
      "0         NaN         NaN         NaN          NaN  \n",
      "1         NaN         NaN         NaN          NaN  \n",
      "2         NaN         NaN         NaN          NaN  \n",
      "3         NaN         NaN         NaN          NaN  \n",
      "4         NaN         NaN         NaN          NaN  \n",
      "App Name            object\n",
      "Category            object\n",
      "Rating              object\n",
      "Reviews             object\n",
      "Installs            object\n",
      "Size                object\n",
      "Price               object\n",
      "Content Rating      object\n",
      "Last Updated        object\n",
      "Minimum Version     object\n",
      "Latest Version      object\n",
      "Unnamed: 11         object\n",
      "Unnamed: 12         object\n",
      "Unnamed: 13         object\n",
      "Unnamed: 14        float64\n",
      "dtype: object\n",
      "<class 'pandas.core.frame.DataFrame'>\n",
      "(267052, 15)\n",
      "Index(['App Name', 'Category', 'Rating', 'Reviews', 'Installs', 'Size',\n",
      "       'Price', 'Content Rating', 'Last Updated', 'Minimum Version',\n",
      "       'Latest Version', 'Unnamed: 11', 'Unnamed: 12', 'Unnamed: 13',\n",
      "       'Unnamed: 14'],\n",
      "      dtype='object')\n"
     ]
    }
   ],
   "source": [
    "app = pd.read_csv(\"./Google-Playstore-Full.csv\")\n",
    "print(app.head())\n",
    "print(app.dtypes)\n",
    "print(type(app))\n",
    "print(app.shape)\n",
    "print(app.columns)"
   ]
  },
  {
   "cell_type": "code",
   "execution_count": 3,
   "metadata": {},
   "outputs": [
    {
     "name": "stdout",
     "output_type": "stream",
     "text": [
      "  Unnamed: 11 Unnamed: 12 Unnamed: 13  Unnamed: 14\n",
      "0         NaN         NaN         NaN          NaN\n",
      "1         NaN         NaN         NaN          NaN\n",
      "2         NaN         NaN         NaN          NaN\n",
      "3         NaN         NaN         NaN          NaN\n",
      "4         NaN         NaN         NaN          NaN\n",
      "(267052, 4)\n",
      "Unnamed: 11    267034\n",
      "Unnamed: 12    267049\n",
      "Unnamed: 13    267050\n",
      "Unnamed: 14    267051\n",
      "dtype: int64\n",
      "Unnamed: 11    99.993260\n",
      "Unnamed: 12    99.998877\n",
      "Unnamed: 13    99.999251\n",
      "Unnamed: 14    99.999626\n",
      "dtype: float64\n"
     ]
    }
   ],
   "source": [
    "# unamaed 누락값 확인(부분 누락인지 or 전체 누락인지 확인)\n",
    "app_nan = app.iloc[:, 11:15]\n",
    "print(app_nan.head())\n",
    "app_nan_rows = app_nan.shape[0] # 전체행의 수 \n",
    "app_nan_count = app_nan_rows - app_nan.count() # 누락값 빈도 확인\n",
    "print(app_nan.shape)\n",
    "print(app_nan_count)\n",
    "\n",
    "# 누락 비율\n",
    "app_nan_rate = (app_nan_count/app_nan_rows)*100\n",
    "print(app_nan_rate)\n",
    "# 누락율이 대부분 99.999넘으니 unmaed 데이터를 뺀 데이터를 가지고 가공작업 시작 -> slicing "
   ]
  },
  {
   "cell_type": "code",
   "execution_count": 4,
   "metadata": {},
   "outputs": [
    {
     "name": "stdout",
     "output_type": "stream",
     "text": [
      "                                            App Name          Category  \\\n",
      "0                           DoorDash - Food Delivery    FOOD_AND_DRINK   \n",
      "1  TripAdvisor Hotels Flights Restaurants Attract...  TRAVEL_AND_LOCAL   \n",
      "2                                             Peapod          SHOPPING   \n",
      "3                    foodpanda - Local Food Delivery    FOOD_AND_DRINK   \n",
      "4                          My CookBook Pro (Ad Free)    FOOD_AND_DRINK   \n",
      "\n",
      "        Rating      Reviews      Installs                Size  Price  \\\n",
      "0  4.548561573       305034    5,000,000+  Varies with device      0   \n",
      "1  4.400671482  1.20792e+06  100,000,000+  Varies with device      0   \n",
      "2  3.656329393         1967      100,000+                1.4M      0   \n",
      "3  4.107232571       389154   10,000,000+                 16M      0   \n",
      "4  4.647752285         2291       10,000+  Varies with device  $5.99   \n",
      "\n",
      "  Content Rating        Last Updated     Minimum Version      Latest Version  \n",
      "0       Everyone      March 29, 2019  Varies with device  Varies with device  \n",
      "1       Everyone      March 29, 2019  Varies with device  Varies with device  \n",
      "2       Everyone  September 20, 2018          5.0 and up               2.2.0  \n",
      "3       Everyone      March 22, 2019          4.2 and up              4.18.2  \n",
      "4       Everyone       April 1, 2019  Varies with device  Varies with device  \n"
     ]
    }
   ],
   "source": [
    "app_slicing = app.iloc[:, :11]\n",
    "print(app_slicing.head())"
   ]
  },
  {
   "cell_type": "code",
   "execution_count": 5,
   "metadata": {},
   "outputs": [
    {
     "name": "stdout",
     "output_type": "stream",
     "text": [
      "App Name           1\n",
      "Category           1\n",
      "Rating             0\n",
      "Reviews            1\n",
      "Installs           0\n",
      "Size               0\n",
      "Price              0\n",
      "Content Rating     0\n",
      "Last Updated       0\n",
      "Minimum Version    1\n",
      "Latest Version     3\n",
      "dtype: int64\n",
      "(267052, 11)\n",
      "(267046, 11)\n"
     ]
    }
   ],
   "source": [
    "# slicing 데이텨 누락값 확인 \n",
    "app_slicing_rows = app_slicing.shape[0]\n",
    "app_slicing_nan = app_slicing_rows-app_slicing.count()\n",
    "print(app_slicing_nan) # 대치 어떻게 할 것인지 아님 그냥 삭제할 것인지 고민 좀\n",
    "print(app_slicing.shape) # 삭제 해도 되겠지 뭐\n",
    "app_slicing = app_slicing.dropna()\n",
    "print(app_slicing.shape)"
   ]
  },
  {
   "cell_type": "code",
   "execution_count": 6,
   "metadata": {},
   "outputs": [
    {
     "name": "stdout",
     "output_type": "stream",
     "text": [
      "0     305034.0\n",
      "1    1207922.0\n",
      "2       1967.0\n",
      "3     389154.0\n",
      "4       2291.0\n",
      "Name: Reviews, dtype: float32\n",
      "1\n",
      "0     305034\n",
      "1    1207922\n",
      "2       1967\n",
      "3     389154\n",
      "4       2291\n",
      "Name: Reviews, dtype: int32\n"
     ]
    }
   ],
   "source": [
    "# data type transform to float, integer\n",
    "app_slicing['Reviews'] = pd.to_numeric(app_slicing['Reviews'],\n",
    "                                      errors='coerce', downcast='float')\n",
    "print(app_slicing['Reviews'].head())\n",
    "\n",
    "# 결측치 확인\n",
    "app_r = app_slicing['Reviews'].shape[0]\n",
    "app_r_n = app_r-app_slicing['Reviews'].count()\n",
    "\n",
    "app_slicing['Reviews'] = app_slicing['Reviews'].fillna(0)\n",
    "app_slicing['Reviews'] = app_slicing['Reviews'].astype('int32')\n",
    "print(app_r_n) # reviews 완성\n",
    "print(app_slicing['Reviews'].head())"
   ]
  },
  {
   "cell_type": "code",
   "execution_count": 7,
   "metadata": {},
   "outputs": [
    {
     "name": "stdout",
     "output_type": "stream",
     "text": [
      "0      5000000\n",
      "1    100000000\n",
      "2       100000\n",
      "3     10000000\n",
      "4        10000\n",
      "Name: Installs, dtype: object\n",
      "0      5000000.0\n",
      "1    100000000.0\n",
      "2       100000.0\n",
      "3     10000000.0\n",
      "4        10000.0\n",
      "Name: Installs, dtype: float64\n",
      "0      5000000\n",
      "1    100000000\n",
      "2       100000\n",
      "3     10000000\n",
      "4        10000\n",
      "Name: Installs, dtype: int32\n",
      "267046\n"
     ]
    }
   ],
   "source": [
    "# installs 전처리\n",
    "\n",
    "app_slicing['Installs']=app_slicing['Installs'].str.replace(pat=r'[^0-9]', repl=r'', regex=True)\n",
    "print(app_slicing['Installs'].head())\n",
    "\n",
    "app_slicing['Installs'] = pd.to_numeric(app_slicing['Installs'])\n",
    "print(app_slicing['Installs'].head())\n",
    "app_slicing['Installs'] = app_slicing['Installs'].fillna(0)\n",
    "app_slicing['Installs'] = app_slicing['Installs'].astype('int')\n",
    "print(app_slicing['Installs'].head())\n",
    "print(app_slicing['Installs'].count())"
   ]
  },
  {
   "cell_type": "code",
   "execution_count": 8,
   "metadata": {},
   "outputs": [
    {
     "name": "stdout",
     "output_type": "stream",
     "text": [
      "object\n",
      "0    4.548561573\n",
      "1    4.400671482\n",
      "2    3.656329393\n",
      "3    4.107232571\n",
      "4    4.647752285\n",
      "Name: Rating, dtype: object\n",
      "0    4.548562\n",
      "1    4.400671\n",
      "2    3.656329\n",
      "3    4.107233\n",
      "4    4.647752\n",
      "Name: Rating, dtype: float32\n",
      "0    4.548562\n",
      "1    4.400671\n",
      "2    3.656329\n",
      "3    4.107233\n",
      "4    4.647752\n",
      "Name: Rating, dtype: float32\n",
      "15\n"
     ]
    }
   ],
   "source": [
    "# ratings 전처리\n",
    "# ratings \n",
    "print(app_slicing['Rating'].dtypes)\n",
    "print(app_slicing['Rating'].head())\n",
    "\n",
    "app_slicing['Rating'] = pd.to_numeric(app_slicing['Rating'], errors='coerce', downcast='float')\n",
    "print(app_slicing['Rating'].head())\n",
    "\n",
    "# 결측치 확인 \n",
    "app_r_r = app_slicing['Rating'].shape[0]\n",
    "app_r_r_n = app_r_r-app_slicing['Rating'].count()\n",
    "app_slicing['Rating'] = app_slicing['Rating'].fillna(0) # game stratege를 변환\n",
    "print(app_slicing['Rating'].head()) \n",
    "print(app_r_r_n) # rating 완료 "
   ]
  },
  {
   "cell_type": "code",
   "execution_count": 9,
   "metadata": {},
   "outputs": [
    {
     "name": "stdout",
     "output_type": "stream",
     "text": [
      "                                            App Name          Category  \\\n",
      "0                           DoorDash - Food Delivery    FOOD_AND_DRINK   \n",
      "1  TripAdvisor Hotels Flights Restaurants Attract...  TRAVEL_AND_LOCAL   \n",
      "2                                             Peapod          SHOPPING   \n",
      "3                    foodpanda - Local Food Delivery    FOOD_AND_DRINK   \n",
      "4                          My CookBook Pro (Ad Free)    FOOD_AND_DRINK   \n",
      "\n",
      "     Rating  Reviews   Installs                Size  Price Content Rating  \\\n",
      "0  4.548562   305034    5000000  Varies with device      0       Everyone   \n",
      "1  4.400671  1207922  100000000  Varies with device      0       Everyone   \n",
      "2  3.656329     1967     100000                1.4M      0       Everyone   \n",
      "3  4.107233   389154   10000000                 16M      0       Everyone   \n",
      "4  4.647752     2291      10000  Varies with device  $5.99       Everyone   \n",
      "\n",
      "         Last Updated     Minimum Version      Latest Version  \n",
      "0      March 29, 2019  Varies with device  Varies with device  \n",
      "1      March 29, 2019  Varies with device  Varies with device  \n",
      "2  September 20, 2018          5.0 and up               2.2.0  \n",
      "3      March 22, 2019          4.2 and up              4.18.2  \n",
      "4       April 1, 2019  Varies with device  Varies with device  \n",
      "App Name            object\n",
      "Category            object\n",
      "Rating             float32\n",
      "Reviews              int32\n",
      "Installs             int32\n",
      "Size                object\n",
      "Price               object\n",
      "Content Rating      object\n",
      "Last Updated        object\n",
      "Minimum Version     object\n",
      "Latest Version      object\n",
      "dtype: object\n",
      "<class 'pandas.core.frame.DataFrame'>\n"
     ]
    }
   ],
   "source": [
    "# 중간점검 \n",
    "print(app_slicing.head())\n",
    "print(app_slicing.dtypes)\n",
    "print(type(app_slicing))"
   ]
  },
  {
   "cell_type": "code",
   "execution_count": 9,
   "metadata": {},
   "outputs": [
    {
     "name": "stdout",
     "output_type": "stream",
     "text": [
      "0       0\n",
      "1       0\n",
      "2       0\n",
      "3       0\n",
      "4    5.99\n",
      "Name: Price, dtype: object\n",
      "0         0.00\n",
      "1         0.00\n",
      "2         0.00\n",
      "3         0.00\n",
      "4         5.99\n",
      "5         0.00\n",
      "6         0.00\n",
      "7         0.00\n",
      "8         0.00\n",
      "9         0.00\n",
      "10        0.00\n",
      "11        0.00\n",
      "12        0.00\n",
      "13        0.00\n",
      "14        0.00\n",
      "15        0.00\n",
      "16        0.00\n",
      "17        0.00\n",
      "18        0.00\n",
      "19        0.00\n",
      "20        0.00\n",
      "21        0.00\n",
      "22        0.00\n",
      "23        0.00\n",
      "24        0.00\n",
      "25        0.00\n",
      "26        0.00\n",
      "27        0.00\n",
      "28        0.00\n",
      "29        0.00\n",
      "          ... \n",
      "267022    0.00\n",
      "267023    0.00\n",
      "267024    0.00\n",
      "267025    0.00\n",
      "267026    0.00\n",
      "267027    0.00\n",
      "267028    0.00\n",
      "267029    0.00\n",
      "267030    0.00\n",
      "267031    1.99\n",
      "267032    0.00\n",
      "267033    0.00\n",
      "267034    0.00\n",
      "267035    0.00\n",
      "267036    0.00\n",
      "267037    0.00\n",
      "267038    0.00\n",
      "267039    0.00\n",
      "267040    0.00\n",
      "267041    0.00\n",
      "267042    0.00\n",
      "267043    3.99\n",
      "267044    0.00\n",
      "267045    0.00\n",
      "267046    0.00\n",
      "267047    0.00\n",
      "267048    0.00\n",
      "267049    0.00\n",
      "267050    0.00\n",
      "267051    0.00\n",
      "Name: Price, Length: 267046, dtype: float32\n"
     ]
    }
   ],
   "source": [
    "# Price 전처리\n",
    "#print(app_slicing['Price'])\n",
    "\n",
    "# prices = app_slicing['Price']\n",
    "# prices = prices.replace('\\$','',regex=True) \n",
    "\n",
    "app_slicing['Price'] = app_slicing['Price'].replace('\\$','',regex=True)\n",
    "print(app_slicing['Price'].head())\n",
    "\n",
    "app_slicing['Price'] = pd.to_numeric(app_slicing['Price'],errors='coerce', downcast='float')\n",
    "print(app_slicing['Price'])"
   ]
  },
  {
   "cell_type": "code",
   "execution_count": 10,
   "metadata": {},
   "outputs": [
    {
     "name": "stdout",
     "output_type": "stream",
     "text": [
      "0   2019-03-29\n",
      "1   2019-03-29\n",
      "2   2018-09-20\n",
      "3   2019-03-22\n",
      "4   2019-04-01\n",
      "Name: Last Updated, dtype: datetime64[ns]\n"
     ]
    }
   ],
   "source": [
    "# Last Updated 전처리 \n",
    "# 일 월 연 -> 연 월 일로 \n",
    "app_slicing['Last Updated'] = pd.to_datetime(app_slicing['Last Updated'], \n",
    "                                            errors = 'coerce')\n",
    "print(app_slicing['Last Updated'].head())\n",
    "\n",
    "app_slicing['Last Updated'] = app_slicing['Last Updated'].dt.date \n",
    "\n",
    "# 누락값 확인\n",
    "app_date = app_slicing['Last Updated'].shape[0]\n",
    "date_nan = app_date -  app_slicing['Last Updated'].count()\n",
    "\n",
    "app_slicing['Last Updated'] = app_slicing['Last Updated'].fillna('Unkown')"
   ]
  },
  {
   "cell_type": "code",
   "execution_count": 11,
   "metadata": {},
   "outputs": [
    {
     "name": "stdout",
     "output_type": "stream",
     "text": [
      "                                            App Name          Category  \\\n",
      "0                           DoorDash - Food Delivery    FOOD_AND_DRINK   \n",
      "1  TripAdvisor Hotels Flights Restaurants Attract...  TRAVEL_AND_LOCAL   \n",
      "2                                             Peapod          SHOPPING   \n",
      "3                    foodpanda - Local Food Delivery    FOOD_AND_DRINK   \n",
      "4                          My CookBook Pro (Ad Free)    FOOD_AND_DRINK   \n",
      "\n",
      "     Rating  Reviews   Installs                Size  Price Content Rating  \\\n",
      "0  4.548562   305034    5000000  Varies with device      0       Everyone   \n",
      "1  4.400671  1207922  100000000  Varies with device      0       Everyone   \n",
      "2  3.656329     1967     100000                1.4M      0       Everyone   \n",
      "3  4.107233   389154   10000000                 16M      0       Everyone   \n",
      "4  4.647752     2291      10000  Varies with device  $5.99       Everyone   \n",
      "\n",
      "  Last Updated     Minimum Version      Latest Version  \n",
      "0   2019-03-29  Varies with device  Varies with device  \n",
      "1   2019-03-29  Varies with device  Varies with device  \n",
      "2   2018-09-20          5.0 and up               2.2.0  \n",
      "3   2019-03-22          4.2 and up              4.18.2  \n",
      "4   2019-04-01  Varies with device  Varies with device  \n",
      "App Name            object\n",
      "Category            object\n",
      "Rating             float32\n",
      "Reviews              int32\n",
      "Installs             int32\n",
      "Size                object\n",
      "Price               object\n",
      "Content Rating      object\n",
      "Last Updated        object\n",
      "Minimum Version     object\n",
      "Latest Version      object\n",
      "dtype: object\n",
      "(267046, 11)\n",
      "App Name           0\n",
      "Category           0\n",
      "Rating             0\n",
      "Reviews            0\n",
      "Installs           0\n",
      "Size               0\n",
      "Price              0\n",
      "Content Rating     0\n",
      "Last Updated       0\n",
      "Minimum Version    0\n",
      "Latest Version     0\n",
      "dtype: int64\n",
      "(267046, 11)\n",
      "(267046, 11)\n"
     ]
    }
   ],
   "source": [
    "# 최종점검\n",
    "print(app_slicing.head())\n",
    "print(app_slicing.dtypes)\n",
    "print(app_slicing.shape)\n",
    "app_slicing_rows = app_slicing.shape[0]\n",
    "app_slicing_nan = app_slicing_rows-app_slicing.count()\n",
    "print(app_slicing_nan) # 대치 어떻게 할 것인지 아님 그냥 삭제할 것인지 고민 좀\n",
    "print(app_slicing.shape) # 삭제 해도 되겠지 뭐\n",
    "app_slicing = app_slicing.dropna()\n",
    "print(app_slicing.shape)"
   ]
  },
  {
   "cell_type": "code",
   "execution_count": 34,
   "metadata": {},
   "outputs": [
    {
     "name": "stdout",
     "output_type": "stream",
     "text": [
      "   Unnamed: 0                                           App Name  \\\n",
      "0           0                           DoorDash - Food Delivery   \n",
      "1           1  TripAdvisor Hotels Flights Restaurants Attract...   \n",
      "2           2                                             Peapod   \n",
      "3           3                    foodpanda - Local Food Delivery   \n",
      "4           4                          My CookBook Pro (Ad Free)   \n",
      "\n",
      "           Category    Rating  Reviews   Installs                Size  Price  \\\n",
      "0    FOOD_AND_DRINK  4.548562   305034    5000000  Varies with device      0   \n",
      "1  TRAVEL_AND_LOCAL  4.400671  1207922  100000000  Varies with device      0   \n",
      "2          SHOPPING  3.656329     1967     100000                1.4M      0   \n",
      "3    FOOD_AND_DRINK  4.107233   389154   10000000                 16M      0   \n",
      "4    FOOD_AND_DRINK  4.647752     2291      10000  Varies with device  $5.99   \n",
      "\n",
      "  Content Rating Last Updated     Minimum Version      Latest Version  \n",
      "0       Everyone   2019-03-29  Varies with device  Varies with device  \n",
      "1       Everyone   2019-03-29  Varies with device  Varies with device  \n",
      "2       Everyone   2018-09-20          5.0 and up               2.2.0  \n",
      "3       Everyone   2019-03-22          4.2 and up              4.18.2  \n",
      "4       Everyone   2019-04-01  Varies with device  Varies with device  \n",
      "Unnamed: 0           int64\n",
      "App Name            object\n",
      "Category            object\n",
      "Rating             float64\n",
      "Reviews              int64\n",
      "Installs             int64\n",
      "Size                object\n",
      "Price               object\n",
      "Content Rating      object\n",
      "Last Updated        object\n",
      "Minimum Version     object\n",
      "Latest Version      object\n",
      "dtype: object\n",
      "<class 'pandas.core.frame.DataFrame'>\n",
      "        Unnamed: 0                       App Name            Category  \\\n",
      "267041      267047           Community Healthplex  HEALTH_AND_FITNESS   \n",
      "267042      267048            Pet ads: Buy & Sell            BUSINESS   \n",
      "267043      267049  Collectors Market: Buy & Sell            BUSINESS   \n",
      "267044      267050         Car Market, Buy & Sell            BUSINESS   \n",
      "267045      267051      Selfie with Ariana Grande         PHOTOGRAPHY   \n",
      "\n",
      "          Rating  Reviews  Installs  Size Price Content Rating Last Updated  \\\n",
      "267041  5.000000        1       100  4.2M     0       Everyone   2018-07-27   \n",
      "267042  2.600000        5       500  8.4M     0       Everyone   2018-10-22   \n",
      "267043  3.285714        7      1000  7.9M     0       Everyone   2019-03-13   \n",
      "267044  5.000000        1      1000  8.2M     0       Everyone   2018-08-27   \n",
      "267045  4.611111       18      1000  7.8M     0       Everyone   2018-10-03   \n",
      "\n",
      "       Minimum Version Latest Version  \n",
      "267041      5.0 and up      1.0.4.228  \n",
      "267042    4.0.3 and up            1.8  \n",
      "267043    4.0.3 and up            2.4  \n",
      "267044    4.0.3 and up            1.7  \n",
      "267045    4.0.3 and up              1  \n"
     ]
    }
   ],
   "source": [
    "# 데이터 저장\n",
    "# app_slicing.to_csv('C:\\\\Users\\\\STUDENT\\\\Desktop\\비대면강의\\\\데이터베이스\\\\설계\\\\zipcock_preprocessing\\\\app_data_procssing2.csv', sep=';', encoding='UTF-16')\n",
    "processing = pd.read_csv('C:\\\\Users\\\\STUDENT\\\\Desktop\\비대면강의\\\\데이터베이스\\\\설계\\\\zipcock_preprocessing\\\\app_data_procssing2.csv', sep=';', encoding='UTF-16')\n",
    "# processing = open('C:\\\\Users\\\\STUDENT\\\\Desktop\\\\비대면강의\\\\데이터베이스\\\\설계\\\\zipcock_preprocessing\\\\app_data_procssing1.csv','r', encoding='UTF-16')\n",
    "print(processing.head())\n",
    "print(processing.dtypes)\n",
    "print(type(processing))\n",
    "print(processing.tail())"
   ]
  },
  {
   "cell_type": "code",
   "execution_count": 12,
   "metadata": {},
   "outputs": [
    {
     "name": "stdout",
     "output_type": "stream",
     "text": [
      "0     305034\n",
      "1    1207922\n",
      "2       1967\n",
      "3     389154\n",
      "4       2291\n",
      "Name: Reviews, dtype: int32\n"
     ]
    }
   ],
   "source": [
    "re_v = app_slicing['Reviews']\n",
    "re_v = re_v.astype('int32')\n",
    "print(re_v.head())"
   ]
  },
  {
   "cell_type": "code",
   "execution_count": 13,
   "metadata": {},
   "outputs": [
    {
     "name": "stdout",
     "output_type": "stream",
     "text": [
      "Category\n",
      "6                          1\n",
      "ART_AND_DESIGN          1758\n",
      "AUTO_AND_VEHICLES       2104\n",
      "BEAUTY                   959\n",
      "BOOKS_AND_REFERENCE    21377\n",
      "BUSINESS               10230\n",
      "COMICS                   505\n",
      "COMMUNICATION           5486\n",
      "DATING                   323\n",
      "EDUCATION              33394\n",
      "ENTERTAINMENT          20603\n",
      "EVENTS                   615\n",
      "FINANCE                10342\n",
      "FOOD_AND_DRINK          3170\n",
      "GAME_ACTION             1482\n",
      "GAME_ADVENTURE          1055\n",
      "GAME_ARCADE             2343\n",
      "GAME_BOARD               968\n",
      "GAME_CARD               1183\n",
      "GAME_CASINO              367\n",
      "GAME_CASUAL             2426\n",
      "GAME_EDUCATIONAL        2007\n",
      "GAME_MUSIC               253\n",
      "GAME_PUZZLE             3620\n",
      "GAME_RACING              778\n",
      "GAME_ROLE_PLAYING       1035\n",
      "GAME_SIMULATION         1607\n",
      "GAME_SPORTS              772\n",
      "GAME_STRATEGY            913\n",
      "GAME_TRIVIA              753\n",
      "GAME_WORD                946\n",
      "HEALTH_AND_FITNESS      7537\n",
      "HOUSE_AND_HOME           925\n",
      "LIBRARIES_AND_DEMO       611\n",
      "LIFESTYLE              15034\n",
      "MAPS_AND_NAVIGATION     4094\n",
      "MEDICAL                 3736\n",
      "MUSIC_AND_AUDIO        17876\n",
      "NEWS_AND_MAGAZINES      8029\n",
      "PARENTING                621\n",
      "PERSONALIZATION        10544\n",
      "PHOTOGRAPHY             7240\n",
      "PRODUCTIVITY            9142\n",
      "SHOPPING                5337\n",
      "SOCIAL                  4744\n",
      "SPORTS                  5585\n",
      "TOOLS                  21591\n",
      "TRAVEL                     1\n",
      "TRAVEL_AND_LOCAL        6649\n",
      "VIDEO_PLAYERS           2717\n",
      "WEATHER                 1643\n",
      "Name: Category, dtype: int64\n"
     ]
    }
   ],
   "source": [
    "category_group = app_slicing['Category'].groupby(app_slicing['Category'])\n",
    "print(category_group.count())"
   ]
  },
  {
   "cell_type": "code",
   "execution_count": 14,
   "metadata": {},
   "outputs": [
    {
     "name": "stdout",
     "output_type": "stream",
     "text": [
      "App Name           0\n",
      "Category           0\n",
      "Rating             0\n",
      "Reviews            0\n",
      "Installs           0\n",
      "Size               0\n",
      "Price              0\n",
      "Content Rating     0\n",
      "Last Updated       0\n",
      "Minimum Version    0\n",
      "Latest Version     0\n",
      "dtype: int64\n",
      "(267031, 11)\n",
      "(267031, 11)\n"
     ]
    }
   ],
   "source": [
    "# slicing 데이텨 누락값 확인 \n",
    "app_slicing_rows = app_slicing.shape[0]\n",
    "app_slicing_nan = app_slicing_rows-app_slicing.count()\n",
    "print(app_slicing_nan) \n",
    "print(app_slicing.shape) \n",
    "app_slicing = app_slicing.dropna()\n",
    "print(app_slicing.shape)"
   ]
  }
 ],
 "metadata": {
  "kernelspec": {
   "display_name": "Python 3",
   "language": "python",
   "name": "python3"
  },
  "language_info": {
   "codemirror_mode": {
    "name": "ipython",
    "version": 3
   },
   "file_extension": ".py",
   "mimetype": "text/x-python",
   "name": "python",
   "nbconvert_exporter": "python",
   "pygments_lexer": "ipython3",
   "version": "3.7.3"
  }
 },
 "nbformat": 4,
 "nbformat_minor": 2
}
